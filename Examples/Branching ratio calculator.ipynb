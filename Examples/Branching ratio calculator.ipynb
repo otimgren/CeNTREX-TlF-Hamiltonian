{
 "cells": [
  {
   "cell_type": "markdown",
   "id": "5065aade-7a12-4895-855f-3ca99cf0be45",
   "metadata": {},
   "source": [
    "# Branching ratio calculator\n",
    "Calculating branching ratios between given states at zero electric and magnetic field. This notebook also requires [`centrex-TlF-couplings`](https://github.com/ograsdijk/CeNTREX-TlF-Hamiltonian)"
   ]
  },
  {
   "cell_type": "markdown",
   "id": "3d29f0fc-d14c-4783-826f-eef11eeea0fa",
   "metadata": {},
   "source": [
    "## Import packages"
   ]
  },
  {
   "cell_type": "code",
   "execution_count": 18,
   "id": "3aed961f-6663-48ef-9f7e-0317b3b59a80",
   "metadata": {},
   "outputs": [
    {
     "name": "stdout",
     "output_type": "stream",
     "text": [
      "The autoreload extension is already loaded. To reload it, use:\n",
      "  %reload_ext autoreload\n"
     ]
    }
   ],
   "source": [
    "%load_ext autoreload\n",
    "%autoreload 2\n",
    "\n",
    "import copy\n",
    "import matplotlib.pyplot as plt\n",
    "import numpy as np\n",
    "import scipy\n",
    "from numpy.random import normal\n",
    "from tqdm import tqdm\n",
    "\n",
    "from centrex_TlF_hamiltonian.states import State, CoupledBasisState, UncoupledBasisState, generate_uncoupled_states_ground_mF0, generate_coupled_states_excited_mF0, find_state_idx_from_state, ElectronicState, find_exact_states\n",
    "from centrex_TlF_hamiltonian.hamiltonian import generate_uncoupled_hamiltonian_X, generate_uncoupled_hamiltonian_X_function, generate_coupled_hamiltonian_B, generate_coupled_hamiltonian_B_function, XConstants, BConstants\n",
    "from centrex_TlF_hamiltonian.hamiltonian.utils import matrix_to_states\n",
    "from centrex_TlF_couplings.matrix_elements import generate_ED_ME_mixed_state, ED_ME_coupled"
   ]
  },
  {
   "cell_type": "markdown",
   "id": "85cc4c2e-bb58-4238-ad4e-0031ae2c8188",
   "metadata": {},
   "source": [
    "## Hamiltonians\n",
    "### X-state"
   ]
  },
  {
   "cell_type": "code",
   "execution_count": 2,
   "id": "e2713927-31dd-4426-8fb4-dc281096e27f",
   "metadata": {},
   "outputs": [],
   "source": [
    "# Generate quantum numbers\n",
    "QN_X_uc = generate_uncoupled_states_ground_mF0(range(0,5))\n",
    "\n",
    "# Generate Hamiltonian\n",
    "H_X = generate_uncoupled_hamiltonian_X_function(generate_uncoupled_hamiltonian_X(QN_X_uc))(np.array([0,0,0]),np.array([0,0,1e-4]))/(2*np.pi)\n",
    "\n",
    "#Diagonalize the Hamiltonian and define a new basis where the matrix is diagonal\n",
    "D, V = np.linalg.eigh(H_X)\n",
    "H_X_diag = V.conj().T @ H_X @ V\n",
    "\n",
    "#Remove very small entries from V\n",
    "V[np.abs(V) < 1e-5] = 0\n",
    "\n",
    "#New set of quantum numbers:\n",
    "QN_X_diag = matrix_to_states(V, QN_X_uc)"
   ]
  },
  {
   "cell_type": "markdown",
   "id": "69723b48-259f-41a6-bb3e-8ba06a09f939",
   "metadata": {},
   "source": [
    "### B-state"
   ]
  },
  {
   "cell_type": "code",
   "execution_count": 3,
   "id": "7c3fee58-da94-40d8-9e3e-fad1529bbe53",
   "metadata": {},
   "outputs": [],
   "source": [
    "# Generate quantum numbers\n",
    "QN_B_c = generate_coupled_states_excited_mF0(range(1,6), Ps = [-1,1])\n",
    "\n",
    "# Generate Hamiltonian\n",
    "def generate_H_B(B_state_constants = BConstants):\n",
    "    H_B = generate_coupled_hamiltonian_B_function(generate_coupled_hamiltonian_B(QN_B_c, constants=B_state_constants))\n",
    "    \n",
    "    return H_B(np.array([0,0,0]),np.array([0,0,1e-4]))/(2*np.pi)\n",
    "\n",
    "\n",
    "\n",
    "#Diagonalize the Hamiltonian and define a new basis where the matrix is diagonal\n",
    "H_B = generate_H_B()\n",
    "D, V = np.linalg.eigh(H_B)\n",
    "H_B_diag = V.conj().T @ H_B @ V\n",
    "\n",
    "#Remove very small entries from V\n",
    "V[np.abs(V) < 1e-5] = 0\n",
    "\n",
    "#New set of quantum numbers:\n",
    "QN_B_diag = matrix_to_states(V, QN_B_c)"
   ]
  },
  {
   "cell_type": "markdown",
   "id": "0cb8e152-d68c-4425-b661-58ddf9725a7b",
   "metadata": {},
   "source": [
    "## Calculate branching ratios"
   ]
  },
  {
   "cell_type": "markdown",
   "id": "34ff5988-1b41-4841-a038-8ba054baaf29",
   "metadata": {},
   "source": [
    "Define function that calculates matrix elements:"
   ]
  },
  {
   "cell_type": "code",
   "execution_count": 4,
   "id": "b2b48e36-e5e9-48bb-aa0d-dfbb5f05c1c4",
   "metadata": {},
   "outputs": [],
   "source": [
    "def calculate_BR(excited_state, ground_states, QN_B, H_B, tol = 1e-5):\n",
    "    \"\"\"\n",
    "    Function that calculates branching ratios from the given excited state to the given ground states\n",
    "\n",
    "    inputs:\n",
    "    excited_state = state object representing the excited state that is spontaneously decaying\n",
    "    ground_states = list of state objects that should span all the states to which the excited state can decay\n",
    "\n",
    "    returns:\n",
    "    BRs = list of branching ratios to each of the ground states\n",
    "    \"\"\"\n",
    "    ground_states = find_exact_ground_states(ground_states)\n",
    "    excited_state = find_exact_excited_state(excited_state, QN_B, H_B)\n",
    "    \n",
    "    #Initialize container for matrix elements between excited state and ground states\n",
    "    MEs = np.zeros(len(ground_states), dtype = complex)\n",
    "\n",
    "    #loop over ground states\n",
    "    for i, ground_state in enumerate(ground_states):\n",
    "        MEs[i] = generate_ED_ME_mixed_state(\n",
    "            ground_state.remove_small_components(tol = tol),\n",
    "            excited_state.remove_small_components(tol = tol),\n",
    "            reduced=True\n",
    "        )\n",
    "    \n",
    "    #Calculate branching ratios\n",
    "    BRs = np.abs(MEs)**2/(np.sum(np.abs(MEs)**2))\n",
    "\n",
    "    return BRs\n",
    "\n",
    "def find_exact_ground_states(approx_states):\n",
    "    \"\"\"\n",
    "    Finds the exact states corresponding to approx states\n",
    "    \"\"\"\n",
    "    ground_states=find_exact_states(approx_states, QN_X_diag, H_X_diag)\n",
    "    return [state.remove_small_components().transform_to_coupled() for state in ground_states]\n",
    "\n",
    "def find_exact_excited_state(approx_state, QN_B, H_B):\n",
    "    \"\"\"\n",
    "    Finds the exact states corresponding to approx states\n",
    "    \"\"\"\n",
    "    return find_exact_states([approx_state], QN_B, H_B)[0]"
   ]
  },
  {
   "cell_type": "markdown",
   "id": "7334da58-ac1c-4083-a31a-65c79e15f40d",
   "metadata": {},
   "source": [
    "### B, J' = 1, F1=3/2, F = 1\n",
    "This is the excited state used in rotational cooling"
   ]
  },
  {
   "cell_type": "code",
   "execution_count": 5,
   "id": "5c411d6f-3a15-44d0-ae5b-0673c96f593d",
   "metadata": {},
   "outputs": [
    {
     "data": {
      "text/plain": [
       "array([0.33675259, 0.14737139, 0.        , 0.38897033, 0.02613648,\n",
       "       0.10076921])"
      ]
     },
     "execution_count": 5,
     "metadata": {},
     "output_type": "execute_result"
    }
   ],
   "source": [
    "ground_states_approx = ([1*CoupledBasisState(F=0, mF=0, J=0, F1=1/2, I1=1/2, I2=1/2, Ω=0, P=+1, electronic_state=ElectronicState.X)]\n",
    "                        +[1*CoupledBasisState(F=1, mF=0, J=0, F1=1/2, I1=1/2, I2=1/2, Ω=0, P=+1, electronic_state=ElectronicState.X)]\n",
    "                       +[1*CoupledBasisState(F=3, mF=0, J=2, F1=5/2, I1=1/2, I2=1/2, Ω=0, P=+1, electronic_state=ElectronicState.X),\n",
    "                         1*CoupledBasisState(F=2, mF=0, J=2, F1=5/2, I1=1/2, I2=1/2, Ω=0, P=+1, electronic_state=ElectronicState.X),\n",
    "                         1*CoupledBasisState(F=2, mF=0, J=2, F1=3/2, I1=1/2, I2=1/2, Ω=0, P=+1, electronic_state=ElectronicState.X),\n",
    "                         1*CoupledBasisState(F=1, mF=0, J=2, F1=3/2, I1=1/2, I2=1/2, Ω=0, P=+1, electronic_state=ElectronicState.X)])\n",
    "\n",
    "excited_state_approx = 1*CoupledBasisState(F=1, mF=0, J =1, F1=3/2, I1=1/2, I2=1/2, P=-1,Ω=1, electronic_state=ElectronicState.B)\n",
    "\n",
    "calculate_BR(excited_state_approx, ground_states_approx, QN_B_diag, H_B_diag)"
   ]
  },
  {
   "cell_type": "markdown",
   "id": "c151a924-aa93-48e7-af4f-87caa36b03fd",
   "metadata": {},
   "source": [
    "### B, J' = 2, F1=5/2, F = 3\n",
    "This is one of the excited states used in detection"
   ]
  },
  {
   "cell_type": "code",
   "execution_count": 6,
   "id": "3d408bdd-77e4-442b-86f1-cb57b705c206",
   "metadata": {},
   "outputs": [
    {
     "data": {
      "text/plain": [
       "array([0.52352355, 0.41542109, 0.01506309, 0.043742  , 0.00225026])"
      ]
     },
     "execution_count": 6,
     "metadata": {},
     "output_type": "execute_result"
    }
   ],
   "source": [
    "ground_states_approx = ([1*CoupledBasisState(F=2, mF=0, J=1, F1=3/2, I1=1/2, I2=1/2, Ω=0, P=-1, electronic_state=ElectronicState.X)]\n",
    "                       +[1*CoupledBasisState(F=4, mF=0, J=3, F1=7/2, I1=1/2, I2=1/2, Ω=0, P=-1, electronic_state=ElectronicState.X),\n",
    "                         1*CoupledBasisState(F=3, mF=0, J=3, F1=7/2, I1=1/2, I2=1/2, Ω=0, P=-1, electronic_state=ElectronicState.X),\n",
    "                         1*CoupledBasisState(F=3, mF=0, J=3, F1=5/2, I1=1/2, I2=1/2, Ω=0, P=-1, electronic_state=ElectronicState.X),\n",
    "                         1*CoupledBasisState(F=2, mF=0, J=3, F1=5/2, I1=1/2, I2=1/2, Ω=0, P=-1, electronic_state=ElectronicState.X)])\n",
    "\n",
    "excited_state_approx = 1*CoupledBasisState(F=3, mF=0, J=2, F1=5/2, I1=1/2, I2=1/2, P=+1,Ω=1, electronic_state=ElectronicState.B)\n",
    "\n",
    "calculate_BR(excited_state_approx, ground_states_approx, QN_B_diag, H_B_diag)"
   ]
  },
  {
   "cell_type": "markdown",
   "id": "441f87d9-b58c-4e87-a1f0-458a6015a4d3",
   "metadata": {},
   "source": [
    "### B, J' = 3, F1=7/2, F = 4\n",
    "This is one of the excited states used in detection"
   ]
  },
  {
   "cell_type": "code",
   "execution_count": 7,
   "id": "0be57869-e017-4e5a-b843-5134546a7195",
   "metadata": {},
   "outputs": [
    {
     "data": {
      "text/plain": [
       "array([0.5301435 , 0.43590422, 0.00938837, 0.02386614, 0.00069776])"
      ]
     },
     "execution_count": 7,
     "metadata": {},
     "output_type": "execute_result"
    }
   ],
   "source": [
    "ground_states_approx = ([1*CoupledBasisState(F=3, mF=0, J=2, F1=5/2, I1=1/2, I2=1/2, Ω=0, P=+1, electronic_state=ElectronicState.X)]\n",
    "                       +[1*CoupledBasisState(F=5, mF=0, J=4, F1=9/2, I1=1/2, I2=1/2, Ω=0, P=+1, electronic_state=ElectronicState.X),\n",
    "                         1*CoupledBasisState(F=4, mF=0, J=4, F1=9/2, I1=1/2, I2=1/2, Ω=0, P=+1, electronic_state=ElectronicState.X),\n",
    "                         1*CoupledBasisState(F=4, mF=0, J=4, F1=7/2, I1=1/2, I2=1/2, Ω=0, P=+1, electronic_state=ElectronicState.X),\n",
    "                         1*CoupledBasisState(F=3, mF=0, J=4, F1=7/2, I1=1/2, I2=1/2, Ω=0, P=+1, electronic_state=ElectronicState.X)])\n",
    "\n",
    "excited_state_approx = 1*CoupledBasisState(F=4, mF=0, J=3, F1=7/2, I1=1/2, I2=1/2, P=-1,Ω=1, electronic_state=ElectronicState.B)\n",
    "\n",
    "calculate_BR(excited_state_approx, ground_states_approx, QN_B_diag, H_B_diag)"
   ]
  },
  {
   "cell_type": "markdown",
   "id": "838f8d82-b7e2-4594-b0fc-342ab5534ec0",
   "metadata": {},
   "source": [
    "## Calculating branching ratios with errorbars"
   ]
  },
  {
   "cell_type": "code",
   "execution_count": 8,
   "id": "47dfd7da-8371-4f24-85df-b1e3291cd1f2",
   "metadata": {},
   "outputs": [],
   "source": [
    "def calculate_BR_with_errors(excited_state, ground_states, tol = 1e-5, Ntrials = 10):\n",
    "    \"\"\"\n",
    "    Function that calculates branching ratios from the given excited state to the given ground states\n",
    "\n",
    "    inputs:\n",
    "    excited_state = state object representing the excited state that is spontaneously decaying\n",
    "    ground_states = list of state objects that should span all the states to which the excited state can decay\n",
    "\n",
    "    returns:\n",
    "    BRs = list of branching ratios to each of the ground states\n",
    "    \"\"\"\n",
    "    #Define arrays of parameters\n",
    "    Brot = normal(6687.879e6,0.0026e6, size = Ntrials)\n",
    "    Drot = normal(0.010869e6,0.000027e6, size = Ntrials)\n",
    "    H_const = normal(-8.1,0.6, size = Ntrials)*1e-2\n",
    "    h1_Tl = normal(28789e6,42e6, size = Ntrials)\n",
    "    h1_F = normal(861e6,20e6, size = Ntrials)\n",
    "    q = normal(2.423e6,0, size = Ntrials)\n",
    "    c_Tl = normal(-7.83e6,1.57e6, size = Ntrials)\n",
    "    c1p_Tl = normal(11.17e6,3e6, size = Ntrials)\n",
    "    \n",
    "    # Array for results\n",
    "    BRs = np.empty((len(ground_states), Ntrials), dtype = float)\n",
    "    \n",
    "    B_constants = copy.deepcopy(BConstants())\n",
    "\n",
    "    \n",
    "    for n in tqdm(range(Ntrials)):\n",
    "        # Generate Hamiltonian with new constants\n",
    "        B_constants.B_rot = Brot[n]\n",
    "        B_constants.D_rot = Drot[n]\n",
    "        B_constants.H_const = H_const[n]\n",
    "        B_constants.h1_Tl = h1_Tl[n]\n",
    "        B_constants.h1_F = h1_F[n]\n",
    "        B_constants.q = q[n]\n",
    "        B_constants.c_Tl = c_Tl[n]\n",
    "        B_constants.c1p_Tl = c1p_Tl[n]\n",
    "        # display(B_constants)\n",
    "        H_B = generate_H_B(B_state_constants=B_constants)\n",
    "\n",
    "\n",
    "        #Diagonalize the Hamiltonian and define a new basis where the matrix is diagonal\n",
    "        D, V = np.linalg.eigh(H_B)\n",
    "        H_B_diag = V.conj().T @ H_B @ V\n",
    "        \n",
    "        #Remove very small entries from V\n",
    "        V[np.abs(V) < 1e-5] = 0\n",
    "\n",
    "        #New set of quantum numbers:\n",
    "        QN_B_diag = matrix_to_states(V, QN_B_c)\n",
    "                \n",
    "        BRs[:,n] = np.array(calculate_BR(excited_state, ground_states, QN_B_diag, H_B_diag))\n",
    "    \n",
    "    return BRs"
   ]
  },
  {
   "cell_type": "markdown",
   "id": "1277532c-f56c-4264-a321-382ca195bcec",
   "metadata": {},
   "source": [
    "### B, J' = 1, F1=3/2, F = 1\n",
    "This is the excited state used in rotational cooling"
   ]
  },
  {
   "cell_type": "code",
   "execution_count": 16,
   "id": "8dbe4ef7-c451-4c1e-ba04-e413cdb56be1",
   "metadata": {
    "tags": []
   },
   "outputs": [
    {
     "name": "stderr",
     "output_type": "stream",
     "text": [
      "100%|██████████████████████████████████████████████████████████████████████████████| 1000/1000 [11:54<00:00,  1.40it/s]\n"
     ]
    }
   ],
   "source": [
    "ground_states_approx = ([1*CoupledBasisState(F=0, mF=0, J=0, F1=1/2, I1=1/2, I2=1/2, Ω=0, P=+1, electronic_state=ElectronicState.X)]\n",
    "                        +[1*CoupledBasisState(F=1, mF=0, J=0, F1=1/2, I1=1/2, I2=1/2, Ω=0, P=+1, electronic_state=ElectronicState.X)]\n",
    "                       +[1*CoupledBasisState(F=3, mF=0, J=2, F1=5/2, I1=1/2, I2=1/2, Ω=0, P=+1, electronic_state=ElectronicState.X),\n",
    "                         1*CoupledBasisState(F=2, mF=0, J=2, F1=5/2, I1=1/2, I2=1/2, Ω=0, P=+1, electronic_state=ElectronicState.X),\n",
    "                         1*CoupledBasisState(F=2, mF=0, J=2, F1=3/2, I1=1/2, I2=1/2, Ω=0, P=+1, electronic_state=ElectronicState.X),\n",
    "                         1*CoupledBasisState(F=1, mF=0, J=2, F1=3/2, I1=1/2, I2=1/2, Ω=0, P=+1, electronic_state=ElectronicState.X)])\n",
    "\n",
    "excited_state_approx = 1*CoupledBasisState(F=1, mF=0, J =1, F1=3/2, I1=1/2, I2=1/2, P=-1,Ω=1, electronic_state=ElectronicState.B)\n",
    "\n",
    "BRs = calculate_BR_with_errors(excited_state_approx, ground_states_approx, Ntrials=1000)"
   ]
  },
  {
   "cell_type": "code",
   "execution_count": 17,
   "id": "fde37fae-49c5-4cb1-9a1f-0dbaf61d69e1",
   "metadata": {},
   "outputs": [
    {
     "data": {
      "text/plain": [
       "Text(0.5, 1.0, 'Branching ratio to F = 1')"
      ]
     },
     "execution_count": 17,
     "metadata": {},
     "output_type": "execute_result"
    },
    {
     "data": {
      "image/png": "[encoded data removed]",
      "text/plain": [
       "<Figure size 640x480 with 2 Axes>"
      ]
     },
     "metadata": {},
     "output_type": "display_data"
    }
   ],
   "source": [
    "fig, ax = plt.subplots(1,2)\n",
    "ax[0].hist(BRs[0,:])\n",
    "ax[0].set_title(\"Branching ratio to F = 0\")\n",
    "ax[1].hist(BRs[1,:])\n",
    "ax[1].set_title(\"Branching ratio to F = 1\")"
   ]
  },
  {
   "cell_type": "code",
   "execution_count": 26,
   "id": "bbd2e9dc-57f6-4c59-a0bb-48f6db0e6402",
   "metadata": {},
   "outputs": [
    {
     "name": "stdout",
     "output_type": "stream",
     "text": [
      "Branching ratio to J=0, F = 0: 0.3367+/-0.0005\n",
      "Branching ratio to J=0, F = 1: 0.1474+/-0.0003\n"
     ]
    }
   ],
   "source": [
    "BR_F0 = np.mean(BRs[0,:])\n",
    "BR_F0_uc = np.std(BRs[0,:])\n",
    "print(f\"Branching ratio to J=0, F = 0: {BR_F0:.4f}+/-{BR_F0_uc:.4f}\")\n",
    "\n",
    "BR_F1 = np.mean(BRs[1,:])\n",
    "BR_F1_uc = np.std(BRs[1,:])\n",
    "print(f\"Branching ratio to J=0, F = 1: {BR_F1:.4f}+/-{BR_F1_uc:.4f}\")"
   ]
  },
  {
   "cell_type": "markdown",
   "id": "e203eaab-4c9a-448a-9446-d633803ae76d",
   "metadata": {},
   "source": [
    "### B, J' = 2, F1=5/2, F = 3\n",
    "This is one of the excited states used in detection"
   ]
  },
  {
   "cell_type": "code",
   "execution_count": 27,
   "id": "96277bf3-ea9c-4382-9a76-25fabb376686",
   "metadata": {},
   "outputs": [
    {
     "name": "stderr",
     "output_type": "stream",
     "text": [
      "100%|██████████████████████████████████████████████████████████████████████████████| 1000/1000 [15:51<00:00,  1.05it/s]\n"
     ]
    }
   ],
   "source": [
    "ground_states_approx = ([1*CoupledBasisState(F=2, mF=0, J=1, F1=3/2, I1=1/2, I2=1/2, Ω=0, P=-1, electronic_state=ElectronicState.X)]\n",
    "                       +[1*CoupledBasisState(F=4, mF=0, J=3, F1=7/2, I1=1/2, I2=1/2, Ω=0, P=-1, electronic_state=ElectronicState.X),\n",
    "                         1*CoupledBasisState(F=3, mF=0, J=3, F1=7/2, I1=1/2, I2=1/2, Ω=0, P=-1, electronic_state=ElectronicState.X),\n",
    "                         1*CoupledBasisState(F=3, mF=0, J=3, F1=5/2, I1=1/2, I2=1/2, Ω=0, P=-1, electronic_state=ElectronicState.X),\n",
    "                         1*CoupledBasisState(F=2, mF=0, J=3, F1=5/2, I1=1/2, I2=1/2, Ω=0, P=-1, electronic_state=ElectronicState.X)])\n",
    "\n",
    "excited_state_approx = 1*CoupledBasisState(F=3, mF=0, J=2, F1=5/2, I1=1/2, I2=1/2, P=+1,Ω=1, electronic_state=ElectronicState.B)\n",
    "\n",
    "BRs = calculate_BR_with_errors(excited_state_approx, ground_states_approx, Ntrials=1000)"
   ]
  },
  {
   "cell_type": "code",
   "execution_count": 30,
   "id": "1fbf2176-a738-4443-abff-1fb772a5310d",
   "metadata": {},
   "outputs": [
    {
     "data": {
      "text/plain": [
       "Text(0.5, 1.0, 'Branching ratio to J = 3')"
      ]
     },
     "execution_count": 30,
     "metadata": {},
     "output_type": "execute_result"
    },
    {
     "data": {
      "image/png": "[encoded data removed]",
      "text/plain": [
       "<Figure size 1200x400 with 2 Axes>"
      ]
     },
     "metadata": {},
     "output_type": "display_data"
    }
   ],
   "source": [
    "fig, ax = plt.subplots(1,2, figsize = (12,4))\n",
    "ax[0].hist(BRs[0,:])\n",
    "ax[0].set_title(\"Branching ratio to J = 1, F = 2\")\n",
    "ax[1].hist(np.sum(BRs[1:,:], axis = 0))\n",
    "ax[1].set_title(\"Branching ratio to J = 3\")"
   ]
  },
  {
   "cell_type": "markdown",
   "id": "deff5e86-8469-4b46-82dd-2d344899c806",
   "metadata": {},
   "source": [
    "### B, J' = 3, F1=7/2, F = 4\n",
    "This is one of the excited states used in detection"
   ]
  },
  {
   "cell_type": "code",
   "execution_count": 33,
   "id": "3a1259bc-cb34-41a8-aa79-b16a5252ee06",
   "metadata": {},
   "outputs": [
    {
     "name": "stderr",
     "output_type": "stream",
     "text": [
      "100%|██████████████████████████████████████████████████████████████████████████████| 1000/1000 [20:34<00:00,  1.23s/it]\n"
     ]
    }
   ],
   "source": [
    "ground_states_approx = ([1*CoupledBasisState(F=3, mF=0, J=2, F1=5/2, I1=1/2, I2=1/2, Ω=0, P=+1, electronic_state=ElectronicState.X)]\n",
    "                       +[1*CoupledBasisState(F=5, mF=0, J=4, F1=9/2, I1=1/2, I2=1/2, Ω=0, P=+1, electronic_state=ElectronicState.X),\n",
    "                         1*CoupledBasisState(F=4, mF=0, J=4, F1=9/2, I1=1/2, I2=1/2, Ω=0, P=+1, electronic_state=ElectronicState.X),\n",
    "                         1*CoupledBasisState(F=4, mF=0, J=4, F1=7/2, I1=1/2, I2=1/2, Ω=0, P=+1, electronic_state=ElectronicState.X),\n",
    "                         1*CoupledBasisState(F=3, mF=0, J=4, F1=7/2, I1=1/2, I2=1/2, Ω=0, P=+1, electronic_state=ElectronicState.X)])\n",
    "\n",
    "excited_state_approx = 1*CoupledBasisState(F=4, mF=0, J=3, F1=7/2, I1=1/2, I2=1/2, P=-1,Ω=1, electronic_state=ElectronicState.B)\n",
    "\n",
    "BRs = calculate_BR_with_errors(excited_state_approx, ground_states_approx, Ntrials = 1000)"
   ]
  },
  {
   "cell_type": "code",
   "execution_count": 34,
   "id": "65d8353b-6f5b-4aff-9388-78c4d773f117",
   "metadata": {},
   "outputs": [
    {
     "data": {
      "text/plain": [
       "Text(0.5, 1.0, 'Branching ratio to J = 4')"
      ]
     },
     "execution_count": 34,
     "metadata": {},
     "output_type": "execute_result"
    },
    {
     "data": {
      "image/png": "[encoded data removed]",
      "text/plain": [
       "<Figure size 1200x400 with 2 Axes>"
      ]
     },
     "metadata": {},
     "output_type": "display_data"
    }
   ],
   "source": [
    "fig, ax = plt.subplots(1,2, figsize = (12,4))\n",
    "ax[0].hist(BRs[0,:])\n",
    "ax[0].set_title(\"Branching ratio to J = 2, F = 3\")\n",
    "ax[1].hist(np.sum(BRs[1:,:], axis = 0))\n",
    "ax[1].set_title(\"Branching ratio to J = 4\")"
   ]
  },
  {
   "cell_type": "code",
   "execution_count": null,
   "id": "d5ed79a0-cb37-41f5-bf2d-943898e479db",
   "metadata": {},
   "outputs": [],
   "source": []
  }
 ],
 "metadata": {
  "kernelspec": {
   "display_name": "Python 3 (ipykernel)",
   "language": "python",
   "name": "python3"
  },
  "language_info": {
   "codemirror_mode": {
    "name": "ipython",
    "version": 3
   },
   "file_extension": ".py",
   "mimetype": "text/x-python",
   "name": "python",
   "nbconvert_exporter": "python",
   "pygments_lexer": "ipython3",
   "version": "3.10.6"
  }
 },
 "nbformat": 4,
 "nbformat_minor": 5
}
