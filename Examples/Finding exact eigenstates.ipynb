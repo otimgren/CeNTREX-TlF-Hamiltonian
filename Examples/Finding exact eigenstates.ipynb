{
 "cells": [
  {
   "cell_type": "markdown",
   "id": "ccee6182-029a-47b6-933c-e2c4514e0086",
   "metadata": {},
   "source": [
    "# Finding exact states\n",
    "Most of the time we talk about states like $|J = 2, m_J = 0, I_{tot} = 0 \\rangle$, but these are not exact eigenstates of the Hamiltonian due to the spin rotation mixing (primarily the $c_1$-term). Here finding the exact forms of given states in a particular electric field."
   ]
  },
  {
   "cell_type": "markdown",
   "id": "05fca165-f453-427e-861e-ae7b5a90c9b9",
   "metadata": {},
   "source": [
    "## Import packages"
   ]
  },
  {
   "cell_type": "code",
   "execution_count": 1,
   "id": "3c5e8626-3e73-4857-8f48-2acee84eb7f4",
   "metadata": {},
   "outputs": [],
   "source": [
    "%load_ext autoreload\n",
    "%autoreload 2\n",
    "\n",
    "import matplotlib.pyplot as plt\n",
    "plt.style.use(['seaborn-darkgrid','thesis'])\n",
    "import numpy as np\n",
    "from scipy.linalg import eigh\n",
    "\n",
    "from centrex_TlF_hamiltonian.states import (State, CoupledBasisState, UncoupledBasisState, generate_uncoupled_states_ground, \n",
    "                                            find_state_idx_from_state, find_closest_vector_idx, ElectronicState, find_exact_states,\n",
    "                                            reorder_evecs)\n",
    "from centrex_TlF_hamiltonian.hamiltonian import generate_uncoupled_hamiltonian_X, generate_uncoupled_hamiltonian_X_function, XConstants\n",
    "from centrex_TlF_hamiltonian.hamiltonian.utils import matrix_to_states"
   ]
  },
  {
   "cell_type": "markdown",
   "id": "67499f1a-6914-4015-840e-90fa30539b5b",
   "metadata": {},
   "source": [
    "## Diagonalizing Hamiltonian\n",
    "We can also calculate the shifts in the energies of states by diagonalizing the Hamiltonian\n",
    "\n",
    "Start by defining the X-state Hamiltonian"
   ]
  },
  {
   "cell_type": "code",
   "execution_count": 2,
   "id": "3db89625-e482-46a1-8185-a19fe2cb4e25",
   "metadata": {},
   "outputs": [],
   "source": [
    "# Generate quantum numbers\n",
    "QN_X_uc = generate_uncoupled_states_ground(range(0,6))\n",
    "\n",
    "# Generate Hamiltonian as function of E and B\n",
    "H_X_EB = generate_uncoupled_hamiltonian_X_function(generate_uncoupled_hamiltonian_X(QN_X_uc))"
   ]
  },
  {
   "cell_type": "markdown",
   "id": "7629bafd-c0de-44a8-9404-544ae9b68f4f",
   "metadata": {},
   "source": [
    "## Function for finding states of interest"
   ]
  },
  {
   "cell_type": "code",
   "execution_count": 3,
   "id": "1aafcd9e-d750-4e91-add2-1fec7aaad0fb",
   "metadata": {},
   "outputs": [],
   "source": [
    "def find_exact_states(approx_states, H, QN):\n",
    "    \"\"\"\n",
    "    Finds the exact state that corresponds to the given approx_state\n",
    "    \"\"\"\n",
    "    D, V = np.linalg.eigh(H)\n",
    "    indices = []\n",
    "    for approx_state in approx_states:\n",
    "        indices.append(find_state_idx_from_state(H, approx_state, QN))\n",
    "    \n",
    "    states = matrix_to_states(V[:,indices], QN)\n",
    "    \n",
    "    return states"
   ]
  },
  {
   "cell_type": "markdown",
   "id": "95af52c5-3ef5-4fbe-9ff9-e6a2c69672b0",
   "metadata": {},
   "source": [
    "## Define states\n",
    "Define the states we're interested in"
   ]
  },
  {
   "cell_type": "code",
   "execution_count": 4,
   "id": "dc9b3857-8e3a-47d3-a0ff-be88099ae47c",
   "metadata": {},
   "outputs": [],
   "source": [
    "J0_singlet = (1*UncoupledBasisState(J=0, mJ=0, I1=1/2, m1=1/2, I2=1/2, m2=-1/2,Omega=0, P=+1, electronic_state=ElectronicState.X)\n",
    "              - 1*UncoupledBasisState(J=0, mJ=0, I1=1/2, m1=-1/2, I2=1/2, m2=1/2,Omega=0, P=+1, electronic_state=ElectronicState.X))/np.sqrt(2)\n",
    "\n",
    "J1_singlet = (1*UncoupledBasisState(J=1, mJ=0, I1=1/2, m1=1/2, I2=1/2, m2=-1/2,Omega=0, P=-1, electronic_state=ElectronicState.X)\n",
    "              - 1*UncoupledBasisState(J=1, mJ=0, I1=1/2, m1=-1/2, I2=1/2, m2=1/2,Omega=0, P=-1, electronic_state=ElectronicState.X))/np.sqrt(2)\n",
    "\n",
    "J2_0pp = 1*UncoupledBasisState(J=2, mJ=0, I1=1/2, m1=1/2, I2=1/2, m2=1/2,Omega=0, P=+1, electronic_state=ElectronicState.X)\n",
    "J2_0mm = 1*UncoupledBasisState(J=2, mJ=0, I1=1/2, m1=-1/2, I2=1/2, m2=-1/2,Omega=0, P=+1, electronic_state=ElectronicState.X)\n",
    "J2_singlet = (1*UncoupledBasisState(J=2, mJ=0, I1=1/2, m1=1/2, I2=1/2, m2=-1/2,Omega=0, P=+1, electronic_state=ElectronicState.X)\n",
    "              - 1*UncoupledBasisState(J=2, mJ=0, I1=1/2, m1=-1/2, I2=1/2, m2=1/2,Omega=0, P=+1, electronic_state=ElectronicState.X))/np.sqrt(2)\n",
    "J2_triplet_0 = (1*UncoupledBasisState(J=2, mJ=0, I1=1/2, m1=1/2, I2=1/2, m2=-1/2,Omega=0, P=+1, electronic_state=ElectronicState.X)\n",
    "               + 1*UncoupledBasisState(J=2, mJ=0, I1=1/2, m1=-1/2, I2=1/2, m2=1/2,Omega=0, P=+1, electronic_state=ElectronicState.X))/np.sqrt(2)"
   ]
  },
  {
   "cell_type": "code",
   "execution_count": 5,
   "id": "0087dce2-fdc8-40d0-be1b-e0a7a006d9ed",
   "metadata": {},
   "outputs": [],
   "source": [
    "approx_states = [J0_singlet, J1_singlet, J2_singlet]"
   ]
  },
  {
   "cell_type": "markdown",
   "id": "195658af-0835-4b90-b8e7-7ecea328040e",
   "metadata": {},
   "source": [
    "## Find exact states"
   ]
  },
  {
   "cell_type": "code",
   "execution_count": 6,
   "id": "0186d30c-e499-488a-aade-f3b1a06b50a7",
   "metadata": {},
   "outputs": [],
   "source": [
    "B = np.array([0,0, 1e-6])\n",
    "E = 100\n",
    "H = H_X_EB(np.array([0,0,E]), B)"
   ]
  },
  {
   "cell_type": "code",
   "execution_count": 7,
   "id": "3f2b22e5-9ef1-4d4f-bacf-b80f1dff00cb",
   "metadata": {},
   "outputs": [],
   "source": [
    "exact_states = find_exact_states(approx_states, H, QN_X_uc)"
   ]
  },
  {
   "cell_type": "code",
   "execution_count": 18,
   "id": "c18d4904-98e7-4d62-bcaf-d1c1c26be184",
   "metadata": {},
   "outputs": [
    {
     "name": "stdout",
     "output_type": "stream",
     "text": [
      "Exact state corresponding to \n",
      "|approx>= \n",
      "0.707 x |X, J = 0, mJ = 0, I₁ = 1/2, m₁ = 1/2, I₂ = 1/2, m₂ = -1/2, P = +, Ω = 0>\n",
      "-0.707 x |X, J = 0, mJ = 0, I₁ = 1/2, m₁ = -1/2, I₂ = 1/2, m₂ = 1/2, P = +, Ω = 0>\n",
      " is \n",
      "|exact>= \n",
      "0.707-0.000j x |X, J = 0, mJ = 0, I₁ = 1/2, m₁ = 1/2, I₂ = 1/2, m₂ = -1/2, P = +, Ω = 0>\n",
      "-0.707+0.000j x |X, J = 0, mJ = 0, I₁ = 1/2, m₁ = -1/2, I₂ = 1/2, m₂ = 1/2, P = +, Ω = 0>\n",
      "\n",
      "Exact state corresponding to \n",
      "|approx>= \n",
      "0.707 x |X, J = 1, mJ = 0, I₁ = 1/2, m₁ = 1/2, I₂ = 1/2, m₂ = -1/2, P = -, Ω = 0>\n",
      "-0.707 x |X, J = 1, mJ = 0, I₁ = 1/2, m₁ = -1/2, I₂ = 1/2, m₂ = 1/2, P = -, Ω = 0>\n",
      " is \n",
      "|exact>= \n",
      "0.705-0.000j x |X, J = 1, mJ = 0, I₁ = 1/2, m₁ = 1/2, I₂ = 1/2, m₂ = -1/2, P = -, Ω = 0>\n",
      "-0.705+0.000j x |X, J = 1, mJ = 0, I₁ = 1/2, m₁ = -1/2, I₂ = 1/2, m₂ = 1/2, P = -, Ω = 0>\n",
      "0.049-0.000j x |X, J = 1, mJ = 1, I₁ = 1/2, m₁ = -1/2, I₂ = 1/2, m₂ = -1/2, P = -, Ω = 0>\n",
      "-0.049+0.000j x |X, J = 1, mJ = -1, I₁ = 1/2, m₁ = 1/2, I₂ = 1/2, m₂ = 1/2, P = -, Ω = 0>\n",
      "\n",
      "Exact state corresponding to \n",
      "|approx>= \n",
      "0.707 x |X, J = 2, mJ = 0, I₁ = 1/2, m₁ = 1/2, I₂ = 1/2, m₂ = -1/2, P = +, Ω = 0>\n",
      "-0.707 x |X, J = 2, mJ = 0, I₁ = 1/2, m₁ = -1/2, I₂ = 1/2, m₂ = 1/2, P = +, Ω = 0>\n",
      " is \n",
      "|exact>= \n",
      "0.620-0.000j x |X, J = 2, mJ = 0, I₁ = 1/2, m₁ = -1/2, I₂ = 1/2, m₂ = 1/2, P = +, Ω = 0>\n",
      "-0.620+0.000j x |X, J = 2, mJ = 0, I₁ = 1/2, m₁ = 1/2, I₂ = 1/2, m₂ = -1/2, P = +, Ω = 0>\n",
      "0.341-0.000j x |X, J = 2, mJ = -1, I₁ = 1/2, m₁ = 1/2, I₂ = 1/2, m₂ = 1/2, P = +, Ω = 0>\n",
      "-0.341+0.000j x |X, J = 2, mJ = 1, I₁ = 1/2, m₁ = -1/2, I₂ = 1/2, m₂ = -1/2, P = +, Ω = 0>\n",
      "\n"
     ]
    }
   ],
   "source": [
    "for approx_state, exact_state in zip(approx_states, exact_states):\n",
    "    print(f\"Exact state corresponding to \\n|approx>= \\n{approx_state.state_string(digits=3)}\\n is \\n|exact>= \\n{exact_state.state_string(digits=3)}\")"
   ]
  },
  {
   "cell_type": "code",
   "execution_count": null,
   "id": "19c2f729-51ad-4b81-8ffa-5494c7a5adf8",
   "metadata": {},
   "outputs": [],
   "source": []
  }
 ],
 "metadata": {
  "kernelspec": {
   "display_name": "Python 3 (ipykernel)",
   "language": "python",
   "name": "python3"
  },
  "language_info": {
   "codemirror_mode": {
    "name": "ipython",
    "version": 3
   },
   "file_extension": ".py",
   "mimetype": "text/x-python",
   "name": "python",
   "nbconvert_exporter": "python",
   "pygments_lexer": "ipython3",
   "version": "3.10.6"
  }
 },
 "nbformat": 4,
 "nbformat_minor": 5
}
