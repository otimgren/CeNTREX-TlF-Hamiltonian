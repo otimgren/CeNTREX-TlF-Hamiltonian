{
 "cells": [
  {
   "cell_type": "markdown",
   "id": "949a990d-6399-49da-9729-71d517e53a2d",
   "metadata": {},
   "source": [
    "# Microwave transition frequency calculator\n",
    "This notebook is used for calculating microwave transition frequencies"
   ]
  },
  {
   "cell_type": "markdown",
   "id": "c189dd10-dcdc-478c-b5d0-66b54640b376",
   "metadata": {},
   "source": [
    "## Imports"
   ]
  },
  {
   "cell_type": "code",
   "execution_count": 1,
   "id": "ee8761f8-39de-4cf4-b964-8907bfb7addf",
   "metadata": {},
   "outputs": [],
   "source": [
    "import matplotlib.pyplot as plt\n",
    "plt.style.use(['seaborn-darkgrid','thesis'])\n",
    "import numpy as np\n",
    "from scipy.linalg import eigh\n",
    "\n",
    "from centrex_TlF_hamiltonian.states import (State, CoupledBasisState, UncoupledBasisState, generate_uncoupled_states_ground, \n",
    "                                            find_state_idx_from_state, find_closest_vector_idx, ElectronicState, find_exact_states, \n",
    "                                            reorder_evecs)\n",
    "from centrex_TlF_hamiltonian.hamiltonian import generate_uncoupled_hamiltonian_X, generate_uncoupled_hamiltonian_X_function, XConstants\n",
    "from centrex_TlF_hamiltonian.hamiltonian.utils import matrix_to_states"
   ]
  },
  {
   "cell_type": "markdown",
   "id": "243377e3-ff3e-421a-8402-f6d227e54158",
   "metadata": {},
   "source": [
    "## Diagonalizing Hamiltonian\n",
    "We can also calculate the shifts in the energies of states by diagonalizing the Hamiltonian\n",
    "\n",
    "Start by defining the X-state Hamiltonian"
   ]
  },
  {
   "cell_type": "code",
   "execution_count": 2,
   "id": "84e49c1f-6897-4615-925b-28e8efd18caf",
   "metadata": {},
   "outputs": [],
   "source": [
    "# Generate quantum numbers\n",
    "QN_X_uc = generate_uncoupled_states_ground(range(0,6))\n",
    "\n",
    "# Generate Hamiltonian as function of E and B\n",
    "H_X_EB = generate_uncoupled_hamiltonian_X_function(generate_uncoupled_hamiltonian_X(QN_X_uc))"
   ]
  },
  {
   "cell_type": "markdown",
   "id": "d027e030-0cee-44e7-b703-958c091353d5",
   "metadata": {},
   "source": [
    "## Calculate transition frequencies\n",
    "### Function for calculations"
   ]
  },
  {
   "cell_type": "code",
   "execution_count": 3,
   "id": "ab461867-2091-4421-a5ae-c2ab6b90d01b",
   "metadata": {},
   "outputs": [],
   "source": [
    "def calculate_transition_frequency(state1, state2, H, QN):\n",
    "    #Find indices corresponding to each state\n",
    "    i1 = find_state_idx_from_state(H, state1, QN)\n",
    "    i2 = find_state_idx_from_state(H, state2, QN)\n",
    "    \n",
    "#     print(i1)\n",
    "#     print(i2)\n",
    "    \n",
    "    #Find energies of each state\n",
    "    E1 = H[i1,i1]\n",
    "    E2 = H[i2,i2]\n",
    "    \n",
    "    #Calculate transition frequency\n",
    "    f = E2 - E1\n",
    "    \n",
    "    return np.real(f)"
   ]
  },
  {
   "cell_type": "markdown",
   "id": "4a0af691-ad81-4142-ab93-50ed7272f4c1",
   "metadata": {},
   "source": [
    "## Rotational cooling transition frequencies "
   ]
  },
  {
   "cell_type": "markdown",
   "id": "6de67686-c0cb-4ad1-b4a6-770a8e667883",
   "metadata": {},
   "source": [
    "Electric and magnetic field are nominally zero (effect of Earth's magnetic field is small enought to ignore)"
   ]
  },
  {
   "cell_type": "code",
   "execution_count": 4,
   "id": "6ba66d35-aba6-4cc3-84c1-cdfb105181ef",
   "metadata": {},
   "outputs": [],
   "source": [
    "E = np.array([0,0,0])\n",
    "B = np.array([0,0,1e-4])\n",
    "H_RC = H_X_EB(E,B)"
   ]
  },
  {
   "cell_type": "markdown",
   "id": "2bc4dc47-5ad7-410b-b697-4634072c4512",
   "metadata": {},
   "source": [
    "Define states"
   ]
  },
  {
   "cell_type": "code",
   "execution_count": 8,
   "id": "607f9393-2780-46bd-8aaf-c3b22e8da39a",
   "metadata": {},
   "outputs": [],
   "source": [
    "state1 = 1*CoupledBasisState(J=1, F1 = 3/2, F = 2, mF = 0, I1 = 1/2, I2 = 1/2, P = -1, Omega = 0, electronic_state=ElectronicState.X)\n",
    "state2 = 1*CoupledBasisState(J=2, F1 = 5/2, F = 3, mF = 0, I1 = 1/2, I2 = 1/2, P = 1, Omega = 0, electronic_state=ElectronicState.X)\n",
    "state3 = 1*CoupledBasisState(J=3, F1 = 7/2, F = 4, mF = 0, I1 = 1/2, I2 = 1/2, P = -1, Omega = 0, electronic_state=ElectronicState.X)"
   ]
  },
  {
   "cell_type": "markdown",
   "id": "0206849d-6f57-4da4-8b8b-1807f283c895",
   "metadata": {},
   "source": [
    "Calculate frequencies"
   ]
  },
  {
   "cell_type": "code",
   "execution_count": 11,
   "id": "7d5d20eb-9bf0-4ae2-b726-a8320b939d2f",
   "metadata": {},
   "outputs": [
    {
     "name": "stdout",
     "output_type": "stream",
     "text": [
      "J = 1 to 2 transition frequency in rotational cooling: 26669.227750 MHz\n",
      "J = 2 to 3 transition frequency in rotational cooling: 40004.272439 MHz\n"
     ]
    }
   ],
   "source": [
    "f12 = calculate_transition_frequency(state1, state2, H_RC, QN_X_uc)/(2*np.pi)\n",
    "f23 = calculate_transition_frequency(state2, state3, H_RC, QN_X_uc)/(2*np.pi)\n",
    "\n",
    "print(f\"J = 1 to 2 transition frequency in rotational cooling: {f12/1e6:2f} MHz\")\n",
    "print(f\"J = 2 to 3 transition frequency in rotational cooling: {f23/1e6:2f} MHz\")"
   ]
  },
  {
   "cell_type": "code",
   "execution_count": null,
   "id": "d278a40c-32ff-4640-8c5f-ff2570dbea43",
   "metadata": {},
   "outputs": [],
   "source": []
  }
 ],
 "metadata": {
  "kernelspec": {
   "display_name": "Python 3",
   "language": "python",
   "name": "python3"
  },
  "language_info": {
   "codemirror_mode": {
    "name": "ipython",
    "version": 3
   },
   "file_extension": ".py",
   "mimetype": "text/x-python",
   "name": "python",
   "nbconvert_exporter": "python",
   "pygments_lexer": "ipython3",
   "version": "3.7.11"
  }
 },
 "nbformat": 4,
 "nbformat_minor": 5
}
