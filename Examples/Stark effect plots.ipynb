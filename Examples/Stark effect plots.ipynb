{
 "cells": [
  {
   "cell_type": "markdown",
   "id": "db681423-5062-4142-95c7-ad84d7cc888c",
   "metadata": {},
   "source": [
    "# Stark effect plots\n",
    "Calculating energy shifts due to motional magnetic fields in interaction region.\n",
    "## Imports"
   ]
  },
  {
   "cell_type": "code",
   "execution_count": null,
   "id": "c9959103-623d-4d81-97c1-51ef23ebd05c",
   "metadata": {},
   "outputs": [],
   "source": [
    "import matplotlib.pyplot as plt\n",
    "plt.style.use(['seaborn-darkgrid','thesis'])\n",
    "import numpy as np\n",
    "from scipy.linalg import eigh\n",
    "\n",
    "from centrex_tlf_hamiltonian.states import (State, CoupledBasisState, UncoupledBasisState, generate_uncoupled_states_ground, \n",
    "                                            find_state_idx_from_state, find_closest_vector_idx, ElectronicState, find_exact_states, \n",
    "                                            reorder_evecs)\n",
    "from centrex_tlf_hamiltonian.hamiltonian import generate_uncoupled_hamiltonian_X, generate_uncoupled_hamiltonian_X_function, XConstants\n",
    "from centrex_tlf_hamiltonian.hamiltonian.utils import matrix_to_states"
   ]
  },
  {
   "cell_type": "markdown",
   "id": "b4af4668-3574-4b2d-8787-00329a113ad9",
   "metadata": {},
   "source": [
    "## Diagonalizing Hamiltonian\n",
    "We can also calculate the shifts in the energies of states by diagonalizing the Hamiltonian\n",
    "\n",
    "Start by defining the X-state Hamiltonian"
   ]
  },
  {
   "cell_type": "code",
   "execution_count": null,
   "id": "d49645db-9f8b-456f-91d4-973fe83785b2",
   "metadata": {},
   "outputs": [],
   "source": [
    "# Generate quantum numbers\n",
    "QN_X_uc = generate_uncoupled_states_ground(range(0,6))\n",
    "\n",
    "# Generate Hamiltonian as function of E and B\n",
    "H_X_EB = generate_uncoupled_hamiltonian_X_function(generate_uncoupled_hamiltonian_X(QN_X_uc))"
   ]
  },
  {
   "cell_type": "markdown",
   "id": "e5dd34d4-c678-43ba-a507-588530a3db8d",
   "metadata": {},
   "source": [
    "Define the states we're interested in"
   ]
  },
  {
   "cell_type": "code",
   "execution_count": null,
   "id": "52a15540-d379-4c95-9ea6-c64f77eb9b4c",
   "metadata": {},
   "outputs": [],
   "source": [
    "J2_0pp = 1*UncoupledBasisState(J=2, mJ=0, I1=1/2, m1=1/2, I2=1/2, m2=1/2,Omega=0, P=+1, electronic_state=ElectronicState.X)\n",
    "J2_1pp = 1*UncoupledBasisState(J=2, mJ=1, I1=1/2, m1=1/2, I2=1/2, m2=1/2,Omega=0, P=1, electronic_state=ElectronicState.X)\n",
    "J2_2pp = 1*UncoupledBasisState(J=2, mJ=2, I1=1/2, m1=1/2, I2=1/2, m2=1/2,Omega=0, P=1, electronic_state=ElectronicState.X)"
   ]
  },
  {
   "cell_type": "markdown",
   "id": "8d803986-dfd0-4f9f-a56d-cd61c1e2d8c7",
   "metadata": {},
   "source": [
    "Find the correct states at 30 kV/cm by repeatedly diagonalizing the Hamiltonian"
   ]
  },
  {
   "cell_type": "code",
   "execution_count": null,
   "id": "5b7b11a0-9959-4ac3-a717-9e32cfed9274",
   "metadata": {},
   "outputs": [],
   "source": [
    "Emin = 100\n",
    "Emax = 50e3\n",
    "B = np.array([0,0, 1e-6])\n",
    "\n",
    "# Diagonalize the Hamiltonian at minimum electric field\n",
    "H_min = H_X_EB(np.array([0,0,Emin]), B)\n",
    "D, V_ref_0 = np.linalg.eigh(H_min)\n",
    "V_ref = V_ref_0\n",
    "\n",
    "# Find indices that correspond to each state\n",
    "J2_0pp_i = find_closest_vector_idx(J2_0pp.state_vector(QN_X_uc),V_ref_0)\n",
    "J2_1pp_i = find_closest_vector_idx(J2_1pp.state_vector(QN_X_uc),V_ref_0)\n",
    "J2_2pp_i = find_closest_vector_idx(J2_2pp.state_vector(QN_X_uc),V_ref_0)\n",
    "\n",
    "# Determine states at zero electric field (stored in V_ref)\n",
    "for Ez in np.linspace(Emin, 0, 1000):\n",
    "    H = H_X_EB(np.array([0,0,Ez]), B)\n",
    "    D, V = np.linalg.eigh(H)\n",
    "    _, V_ref = reorder_evecs(V, D, V_ref)\n",
    "\n",
    "V_ref_diag = V_ref\n",
    "\n",
    "# Determine states at large electric field (stored in V_ref)\n",
    "energies = np.empty((1000, len(QN_X_uc)), dtype = float)\n",
    "Ezs = np.linspace(0, Emax, len(energies))\n",
    "for i, Ez in enumerate(Ezs):\n",
    "    H = H_X_EB(np.array([0,0,Ez]), B)\n",
    "    D, V = np.linalg.eigh(H)\n",
    "    D, V_ref =  reorder_evecs(V, D, V_ref)\n",
    "    energies[i,:] = D"
   ]
  },
  {
   "cell_type": "markdown",
   "id": "31a8bb80-8773-42ff-a651-dd9ccdd06d58",
   "metadata": {},
   "source": [
    "Plot the energies"
   ]
  },
  {
   "cell_type": "code",
   "execution_count": null,
   "id": "60eb4cf8-1058-41e5-9a68-1c7b37767dc7",
   "metadata": {},
   "outputs": [],
   "source": [
    "E_J2_0pp = (energies[:,J2_0pp_i] - energies[0,J2_0pp_i])/(2*np.pi)\n",
    "E_J2_1pp = (energies[:,J2_1pp_i] - energies[0,J2_0pp_i])/(2*np.pi)\n",
    "E_J2_2pp = (energies[:,J2_2pp_i] - energies[0,J2_0pp_i])/(2*np.pi)\n",
    "\n",
    "fig, ax = plt.subplots()\n",
    "ax.plot(Ezs, (E_J2_0pp)/1e6, label = r'$\\mathrm{|J = 2, m_J = 0\\rangle}$')\n",
    "ax.plot(Ezs, (E_J2_1pp)/1e6, label = r'$\\mathrm{|J = 2, |m_J| = 1\\rangle}$')\n",
    "ax.plot(Ezs, (E_J2_2pp)/1e6, label = r'$\\mathrm{|J = 2, |m_J| = 2\\rangle}$')\n",
    "ax.set_xlabel('Electric field magnitude / V/cm')\n",
    "ax.set_ylabel('Stark shift / MHz')\n",
    "ax.legend()\n",
    "\n",
    "plt.savefig('../figures/J2_stark_shift.pdf')"
   ]
  },
  {
   "cell_type": "code",
   "execution_count": null,
   "id": "d0218454-2425-42b7-b3c6-7869c7e10770",
   "metadata": {},
   "outputs": [],
   "source": []
  }
 ],
 "metadata": {
  "kernelspec": {
   "display_name": "Python 3 (ipykernel)",
   "language": "python",
   "name": "python3"
  },
  "language_info": {
   "codemirror_mode": {
    "name": "ipython",
    "version": 3
   },
   "file_extension": ".py",
   "mimetype": "text/x-python",
   "name": "python",
   "nbconvert_exporter": "python",
   "pygments_lexer": "ipython3",
   "version": "3.10.6"
  }
 },
 "nbformat": 4,
 "nbformat_minor": 5
}
