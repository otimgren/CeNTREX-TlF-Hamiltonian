{
 "cells": [
  {
   "cell_type": "markdown",
   "id": "d2711d0b-22f1-4e82-814f-7687f88baf5d",
   "metadata": {},
   "source": [
    "# Energy level calculator\n",
    "Calculating energies for given states at zero electric and magnetic field."
   ]
  },
  {
   "cell_type": "markdown",
   "id": "d2ea6777-3d92-4672-97d5-e0a7fb1faf37",
   "metadata": {},
   "source": [
    "## Import packages"
   ]
  },
  {
   "cell_type": "code",
   "execution_count": 1,
   "id": "796d40c5-7562-4204-9c53-ac8916411940",
   "metadata": {},
   "outputs": [],
   "source": [
    "%load_ext autoreload\n",
    "%autoreload 2\n",
    "\n",
    "import copy\n",
    "import matplotlib.pyplot as plt\n",
    "import numpy as np\n",
    "import plotly.graph_objects as go\n",
    "import pandas as pd\n",
    "import scipy\n",
    "\n",
    "from centrex_TlF_hamiltonian.states import State, CoupledBasisState, UncoupledBasisState, generate_uncoupled_states_ground_mF0, generate_coupled_states_excited_mF0, find_state_idx_from_state, ElectronicState\n",
    "from centrex_TlF_hamiltonian.hamiltonian import generate_uncoupled_hamiltonian_X, generate_uncoupled_hamiltonian_X_function, generate_coupled_hamiltonian_B, generate_coupled_hamiltonian_B_function, XConstants, BConstants\n",
    "from centrex_TlF_hamiltonian.hamiltonian.utils import matrix_to_states"
   ]
  },
  {
   "cell_type": "markdown",
   "id": "d824e398-37b3-4092-9a7e-a3a2861f653b",
   "metadata": {},
   "source": [
    "## Tl-205\n",
    "### X-state Hamiltonian"
   ]
  },
  {
   "cell_type": "code",
   "execution_count": 2,
   "id": "8b17f916-a068-49f0-a1b4-2b1d5d87e9d3",
   "metadata": {},
   "outputs": [],
   "source": [
    "# Generate quantum numbers\n",
    "QN_X_uc = generate_uncoupled_states_ground_mF0(range(0,12))\n",
    "\n",
    "# Generate Hamiltonian\n",
    "H_X = generate_uncoupled_hamiltonian_X_function(generate_uncoupled_hamiltonian_X(QN_X_uc))(np.array([0,0,0]),np.array([0,0,1e-4]))/(2*np.pi)\n",
    "\n",
    "#Diagonalize the Hamiltonian and define a new basis where the matrix is diagonal\n",
    "D, V = np.linalg.eigh(H_X)\n",
    "H_X_diag = V.conj().T @ H_X @ V\n",
    "\n",
    "#Remove very small entries from V\n",
    "V[np.abs(V) < 1e-5] = 0\n",
    "\n",
    "#New set of quantum numbers:\n",
    "QN_X_diag = matrix_to_states(V, QN_X_uc)"
   ]
  },
  {
   "cell_type": "markdown",
   "id": "7f8cde7c-9b16-4934-867e-5404f86f2a9b",
   "metadata": {},
   "source": [
    "### B-state Hamiltonian"
   ]
  },
  {
   "cell_type": "code",
   "execution_count": 3,
   "id": "7f3463e8-4357-491f-809b-d9878d7a8750",
   "metadata": {
    "tags": []
   },
   "outputs": [],
   "source": [
    "# Generate quantum numbers\n",
    "QN_B_c = generate_coupled_states_excited_mF0(range(1,13), Ps = [-1,1])\n",
    "\n",
    "# Generate Hamiltonian\n",
    "H_B = generate_coupled_hamiltonian_B_function(generate_coupled_hamiltonian_B(QN_B_c))(np.array([0,0,0]),np.array([0,0,1e-4]))/(2*np.pi)\n",
    "\n",
    "#Diagonalize the Hamiltonian and define a new basis where the matrix is diagonal\n",
    "D, V = np.linalg.eigh(H_B)\n",
    "H_B_diag = V.conj().T @ H_B @ V\n",
    "\n",
    "#Remove very small entries from V\n",
    "V[np.abs(V) < 1e-5] = 0\n",
    "\n",
    "#New set of quantum numbers:\n",
    "QN_B_diag = matrix_to_states(V, QN_B_c)"
   ]
  },
  {
   "cell_type": "markdown",
   "id": "0d51d73a-38b6-4ec5-8a36-a9d48b6d7baa",
   "metadata": {},
   "source": [
    "### Merge Hamiltonians\n",
    "Merge the X- and B-state Hamiltonians and add and offset to the B-state energies to include the optical wavelength"
   ]
  },
  {
   "cell_type": "code",
   "execution_count": 4,
   "id": "aaf39d1d-9ab5-4d66-bd4a-eacddc4047fc",
   "metadata": {},
   "outputs": [],
   "source": [
    "#Add an offset to the energies of the B-states so that the transition frequency from |X, J = 0, F=1> to |B, J = 1, F = 2> is \n",
    "#1103407.96 GHz\n",
    "X_state = 1*CoupledBasisState(J=0, F1 = 1/2, F = 1, mF = 0, I1 = 1/2, I2 = 1/2, electronic_state=ElectronicState.X, P = +1, Omega = 0)\n",
    "B_state = 1*CoupledBasisState(J=1, F1 = 3/2, F = 2, mF = 0, I1 = 1/2, I2 = 1/2, electronic_state=ElectronicState.B, P = -1, Omega = 1)\n",
    "\n",
    "#Find the indices that correspond to each state\n",
    "i_X = find_state_idx_from_state(H_X_diag, X_state, QN_X_diag)\n",
    "i_B = find_state_idx_from_state(H_B_diag, B_state, QN_B_diag)\n",
    "\n",
    "#Find the correct energy shift\n",
    "E_shift = 4*275851.99e9- H_B_diag[i_B,i_B] + H_X_diag[i_X,i_X] \n",
    "\n",
    "#Shift the energies of the B-states\n",
    "H_B_diag = H_B_diag + E_shift*np.eye(H_B_diag.shape[0])\n",
    "\n",
    "# Make the total Hamiltonian for Tl-205\n",
    "H_tot = scipy.linalg.block_diag(H_X_diag, H_B_diag)\n",
    "QN = QN_X_diag + QN_B_diag"
   ]
  },
  {
   "cell_type": "markdown",
   "id": "7be9972e-5514-429a-834a-254a42f503a4",
   "metadata": {},
   "source": [
    "## Calculate energy differences"
   ]
  },
  {
   "cell_type": "code",
   "execution_count": 5,
   "id": "5599d391-de75-4e59-a36e-aaf45caa2e68",
   "metadata": {},
   "outputs": [],
   "source": [
    "def calculate_transition_frequency(state1, state2, H, QN):\n",
    "    #Find indices corresponding to each state\n",
    "    i1 = find_state_idx_from_state(H, state1, QN)\n",
    "    i2 = find_state_idx_from_state(H, state2, QN)\n",
    "    \n",
    "#     print(i1)\n",
    "#     print(i2)\n",
    "    \n",
    "    #Find energies of each state\n",
    "    E1 = H[i1,i1]\n",
    "    E2 = H[i2,i2]\n",
    "    \n",
    "    #Calculate transition frequency\n",
    "    f = E2 - E1\n",
    "    \n",
    "    return np.real(f)"
   ]
  },
  {
   "cell_type": "markdown",
   "id": "c961d6f1-3dde-4872-92ef-25f1ec74e948",
   "metadata": {},
   "source": [
    "## Spacing of rotational levels\n",
    "calculating the spacings of rotational levels to within 10 MHz"
   ]
  },
  {
   "cell_type": "code",
   "execution_count": 9,
   "id": "bb1e7fa0-9372-42c2-ba4f-ee4209a440b5",
   "metadata": {},
   "outputs": [
    {
     "name": "stdout",
     "output_type": "stream",
     "text": [
      "Energy spacing between J=0 and J=1: 13.33 GHz\n",
      "Energy spacing between J=1 and J=2: 26.67 GHz\n",
      "Energy spacing between J=2 and J=3: 40.00 GHz\n",
      "Energy spacing between J=3 and J=4: 53.34 GHz\n",
      "Energy spacing between J=4 and J=5: 66.67 GHz\n"
     ]
    }
   ],
   "source": [
    "Js = [0,1,2,3,4]\n",
    "for J in Js:\n",
    "    state1 = 1*CoupledBasisState(J=J, F1 = J+1/2, F = J+1, mF = 0, I1 =1/2, I2 = 1/2, electronic_state=ElectronicState.X, P = (-1)**(J), Omega = 0)\n",
    "    state2 = 1*CoupledBasisState(J=J+1, F1 = J+3/2, F = J+2, mF = 0, I1 =1/2, I2 = 1/2, electronic_state=ElectronicState.X, P = (-1)**(J+1), Omega = 0)\n",
    "    freq = calculate_transition_frequency(state1, state2, H_tot, QN)\n",
    "    print(f\"Energy spacing between J={J} and J={J+1}: {freq/1e9:.2f} GHz\")"
   ]
  },
  {
   "cell_type": "markdown",
   "id": "6f0621b8-8db3-437a-a237-e65f0ec419aa",
   "metadata": {},
   "source": [
    "## Spacing of hyperfine levels"
   ]
  },
  {
   "cell_type": "code",
   "execution_count": 19,
   "id": "73ecb2a8-a228-4c56-a09a-fc8cff77a78e",
   "metadata": {},
   "outputs": [
    {
     "name": "stdout",
     "output_type": "stream",
     "text": [
      "Hyperfine spacings for J = 0:\n",
      "\t[-13.30000015] kHz\n",
      "Hyperfine spacings for J = 1:\n",
      "\t[ 22.23878262 175.95243475  14.53878252] kHz\n",
      "Hyperfine spacings for J = 2:\n",
      "\t[ 44.51885069 278.81229832  35.21885079] kHz\n",
      "Hyperfine spacings for J = 3:\n",
      "\t[ 63.94494862 384.58010254  54.37828195] kHz\n",
      "Hyperfine spacings for J = 4:\n",
      "\t[ 82.65417213 491.38165617  72.9905354 ] kHz\n"
     ]
    }
   ],
   "source": [
    "energies = {}\n",
    "for J in Js:\n",
    "    energies[J] = []\n",
    "    print(f\"Hyperfine spacings for J = {J}:\")\n",
    "    for F1 in np.arange(np.abs(J-1/2), J+1/2+1):\n",
    "        for F in np.arange(np.abs(F1-1/2), F1+1/2+1):\n",
    "            state = 1*CoupledBasisState(J=J, F1 = F1, F = F, mF = 0, I1 =1/2, I2 = 1/2, electronic_state=ElectronicState.X, P = (-1)**(J), Omega = 0)\n",
    "            idx = find_state_idx_from_state(H_tot, state, QN)\n",
    "            energies[J].append(H_tot[idx,idx])\n",
    "    print(f\"\\t{np.diff(np.real(energies[J]))/1e3} kHz\")"
   ]
  },
  {
   "cell_type": "code",
   "execution_count": null,
   "id": "e86b4b1d-2c3e-4840-9c93-7c310f54d07e",
   "metadata": {},
   "outputs": [],
   "source": []
  }
 ],
 "metadata": {
  "kernelspec": {
   "display_name": "Python 3 (ipykernel)",
   "language": "python",
   "name": "python3"
  },
  "language_info": {
   "codemirror_mode": {
    "name": "ipython",
    "version": 3
   },
   "file_extension": ".py",
   "mimetype": "text/x-python",
   "name": "python",
   "nbconvert_exporter": "python",
   "pygments_lexer": "ipython3",
   "version": "3.10.6"
  }
 },
 "nbformat": 4,
 "nbformat_minor": 5
}
